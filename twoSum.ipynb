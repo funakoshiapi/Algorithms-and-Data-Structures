{
 "cells": [
  {
   "cell_type": "code",
   "execution_count": 9,
   "metadata": {},
   "outputs": [],
   "source": [
    "\n",
    "#calculate the two number sum, all possibe combination in array\n",
    "def twoNumberSum(array, targetSum):\n",
    "    # Write your code here.\n",
    "\tbook = {}\n",
    "\tsolution = []\n",
    "    \n",
    "\tfor ele in array:\n",
    "\t\t#solve for the desired value\n",
    "\t\tmatch = targetSum - ele\n",
    "\t\t#if exist in dictionary it means that key + value = target number\n",
    "\t\tif match in book:\n",
    "            \n",
    "\t\t\tsolution.append([book[match], match])\n",
    "\t\t\n",
    "\t\t# means that array element on previous loops was a desired value 'match'\n",
    "\t\telif ele in book:\n",
    "\t\t\tsolution.append([book[ele], ele])\n",
    "\t\t# store key and value that sums to the target if not in dictionary\n",
    "\t\telse:\n",
    "\t\t\tbook[match] = ele\n",
    "\treturn solution\n"
   ]
  },
  {
   "cell_type": "code",
   "execution_count": 8,
   "metadata": {},
   "outputs": [
    {
     "data": {
      "text/plain": [
       "[[4, 6], [3, 7], [2, 8]]"
      ]
     },
     "execution_count": 8,
     "metadata": {},
     "output_type": "execute_result"
    }
   ],
   "source": [
    "twoNumberSum([1,2,3,4,5,6,7,8], 10)"
   ]
  },
  {
   "cell_type": "code",
   "execution_count": 11,
   "metadata": {},
   "outputs": [],
   "source": [
    "A= [1,2,3,4,5,6,7,8]"
   ]
  },
  {
   "cell_type": "code",
   "execution_count": 22,
   "metadata": {},
   "outputs": [
    {
     "name": "stdout",
     "output_type": "stream",
     "text": [
      "6\n"
     ]
    }
   ],
   "source": [
    "len(A)-1\n",
    "print(len(A)-2)"
   ]
  },
  {
   "cell_type": "code",
   "execution_count": 25,
   "metadata": {},
   "outputs": [
    {
     "data": {
      "text/plain": [
       "5"
      ]
     },
     "execution_count": 25,
     "metadata": {},
     "output_type": "execute_result"
    }
   ],
   "source": [
    "10//2\n"
   ]
  },
  {
   "cell_type": "code",
   "execution_count": 44,
   "metadata": {},
   "outputs": [
    {
     "name": "stdout",
     "output_type": "stream",
     "text": [
      "True\n"
     ]
    }
   ],
   "source": [
    "s = \"abcdcba\"\n",
    "indice = 0\n",
    "\n",
    "\n",
    "for i in range(len(s)):\n",
    "    \n",
    "    counterReverse = -1 - i\n",
    "    \n",
    "    if s[i] != s[counterReverse]:\n",
    "        print(False)\n",
    "    \n",
    "print(True)\n",
    "    "
   ]
  },
  {
   "cell_type": "code",
   "execution_count": null,
   "metadata": {},
   "outputs": [],
   "source": []
  }
 ],
 "metadata": {
  "kernelspec": {
   "display_name": "Python 3",
   "language": "python",
   "name": "python3"
  },
  "language_info": {
   "codemirror_mode": {
    "name": "ipython",
    "version": 3
   },
   "file_extension": ".py",
   "mimetype": "text/x-python",
   "name": "python",
   "nbconvert_exporter": "python",
   "pygments_lexer": "ipython3",
   "version": "3.7.3"
  }
 },
 "nbformat": 4,
 "nbformat_minor": 2
}
