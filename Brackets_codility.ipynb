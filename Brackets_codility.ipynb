{
 "metadata": {
  "language_info": {
   "codemirror_mode": {
    "name": "ipython",
    "version": 3
   },
   "file_extension": ".py",
   "mimetype": "text/x-python",
   "name": "python",
   "nbconvert_exporter": "python",
   "pygments_lexer": "ipython3",
   "version": 3
  },
  "orig_nbformat": 2
 },
 "nbformat": 4,
 "nbformat_minor": 2,
 "cells": [
  {
   "cell_type": "code",
   "execution_count": null,
   "metadata": {},
   "outputs": [],
   "source": [
    "# https://app.codility.com/programmers/lessons/7-stacks_and_queues/brackets/"
   ]
  },
  {
   "cell_type": "code",
   "execution_count": null,
   "metadata": {},
   "outputs": [],
   "source": [
    "    \n",
    "    S=  '{[()]}' # string input\n",
    "    op = []\n",
    "    i = 0\n",
    "    valid = True\n",
    "\n",
    "    for ele in S:\n",
    "   \n",
    "        if i == 0 :\n",
    "            if ele == '}' or ele == ')' or ele == ']':\n",
    "                print(0)\n",
    "                break\n",
    "       \n",
    "        i=1\n",
    "        \n",
    "        if ele == '[' or ele == '(' or ele =='{':\n",
    "            op.append(ele)\n",
    "\n",
    "        elif ele == '}':\n",
    "            valid = False if not op or op.pop() + ele != '{}' else valid # one way of seeing it\n",
    "               \n",
    "        elif ele == ']':\n",
    "            valid = False if not op or op.pop() != '[' else valid # onother way of seeing it\n",
    "                \n",
    "        elif ele == ')':\n",
    "            valid = False if not op or op.pop() != '(' else valid\n",
    " \n",
    "\n",
    "    if valid and not op:\n",
    "        print(1)\n",
    "   \n",
    "    else:\n",
    "        print(0)\n",
    "    \n",
    "   "
   ]
  }
 ]
}