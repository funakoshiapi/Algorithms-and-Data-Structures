{
 "cells": [
  {
   "cell_type": "code",
   "execution_count": 9,
   "metadata": {},
   "outputs": [],
   "source": [
    "# Binary search iterative version \n",
    "\n",
    "\n",
    "def binarySearch(data, target):\n",
    "    \n",
    "    low = 0\n",
    "    high = len(data)-1 # SUBSTRACT -1 because of the index start from zero\n",
    "    \n",
    "   \n",
    "    # basicaly dividing in smaller portions\n",
    "    \n",
    "    while low <= high:\n",
    "        \n",
    "        mid = (low + high) // 2\n",
    "        \n",
    "        if target == data[mid]:\n",
    "            return True\n",
    "        \n",
    "        elif target > data[mid]:\n",
    "            low = mid + 1\n",
    "            \n",
    "        else:\n",
    "            high = mid - 1\n",
    "            \n",
    "    return False\n",
    "        \n",
    "        \n",
    "        \n",
    "\n"
   ]
  },
  {
   "cell_type": "code",
   "execution_count": 13,
   "metadata": {},
   "outputs": [
    {
     "data": {
      "text/plain": [
       "True"
      ]
     },
     "execution_count": 13,
     "metadata": {},
     "output_type": "execute_result"
    }
   ],
   "source": [
    "\n",
    "data = [3,4,5,6]\n",
    "target = 5\n",
    "\n",
    "binarySearch(data, target)\n"
   ]
  },
  {
   "cell_type": "code",
   "execution_count": 18,
   "metadata": {},
   "outputs": [],
   "source": [
    "# Recursive version of binary search\n",
    "\n",
    "\n",
    "def binarySearchRecursive(data, target, low, high):\n",
    "    high = len(data) - 1\n",
    "    low = 0\n",
    "    \n",
    "    \n",
    "    if high < low:\n",
    "        return False\n",
    "    else:\n",
    "    \n",
    "        mid = (low + high) // 2\n",
    "\n",
    "        if target == data[mid]:\n",
    "            return True\n",
    "\n",
    "        elif target > data[mid]:\n",
    "            return binarySearchRecursive(data, target, mid+1, high)\n",
    "        else:\n",
    "            return binarySearchRecursive(data, target, low, mid-1)\n",
    "        \n",
    "    \n",
    "    \n",
    " \n"
   ]
  },
  {
   "cell_type": "code",
   "execution_count": 22,
   "metadata": {},
   "outputs": [
    {
     "data": {
      "text/plain": [
       "True"
      ]
     },
     "execution_count": 22,
     "metadata": {},
     "output_type": "execute_result"
    }
   ],
   "source": [
    "data = [3,4,5,4,5,6]\n",
    "target = 5\n",
    "binarySearchRecursive(data, target, low, high)"
   ]
  },
  {
   "cell_type": "code",
   "execution_count": null,
   "metadata": {},
   "outputs": [],
   "source": []
  },
  {
   "cell_type": "code",
   "execution_count": 25,
   "metadata": {},
   "outputs": [
    {
     "name": "stdout",
     "output_type": "stream",
     "text": [
      "ALL TEST CASES PASSED\n"
     ]
    }
   ],
   "source": [
    "from nose.tools import assert_equal\n",
    "\n",
    "class testCase(object):\n",
    "    \n",
    "    def test (self, sol):\n",
    "        assert_equal(sol('1 2 3 4 5 6' , '4'), True)\n",
    "        assert_equal(sol('1 2 3 5 6' , '4'), False)\n",
    "        print('ALL TEST CASES PASSED')\n",
    "\n",
    "#run test \n",
    "\n",
    "\n",
    "\n",
    "t = testCase()\n",
    "t.test(binarySearch)\n",
    "\n",
    "        "
   ]
  },
  {
   "cell_type": "code",
   "execution_count": null,
   "metadata": {},
   "outputs": [],
   "source": []
  },
  {
   "cell_type": "code",
   "execution_count": null,
   "metadata": {},
   "outputs": [],
   "source": []
  }
 ],
 "metadata": {
  "kernelspec": {
   "display_name": "Python 3",
   "language": "python",
   "name": "python3"
  },
  "language_info": {
   "codemirror_mode": {
    "name": "ipython",
    "version": 3
   },
   "file_extension": ".py",
   "mimetype": "text/x-python",
   "name": "python",
   "nbconvert_exporter": "python",
   "pygments_lexer": "ipython3",
   "version": "3.7.3"
  }
 },
 "nbformat": 4,
 "nbformat_minor": 2
}
