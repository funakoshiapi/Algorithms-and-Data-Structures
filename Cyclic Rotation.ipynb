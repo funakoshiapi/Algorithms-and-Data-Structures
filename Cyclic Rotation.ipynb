{
 "metadata": {
  "language_info": {
   "codemirror_mode": {
    "name": "ipython",
    "version": 3
   },
   "file_extension": ".py",
   "mimetype": "text/x-python",
   "name": "python",
   "nbconvert_exporter": "python",
   "pygments_lexer": "ipython3",
   "version": "3.6.9-final"
  },
  "orig_nbformat": 2,
  "kernelspec": {
   "name": "python36964bit387f029430874b0db6bacfe5b46bd9d1",
   "display_name": "Python 3.6.9 64-bit"
  }
 },
 "nbformat": 4,
 "nbformat_minor": 2,
 "cells": [
  {
   "cell_type": "code",
   "execution_count": 31,
   "metadata": {
    "tags": []
   },
   "outputs": [
    {
     "output_type": "stream",
     "name": "stdout",
     "text": "[1, 2, 6, 4, 7, 8, 9]\n[9, 1, 2, 6, 4, 7, 8]\n[8, 9, 1, 2, 6, 4, 7]\n"
    }
   ],
   "source": [
    "#Aproach 1\n",
    "\n",
    "def solution(A,K):\n",
    "\n",
    "    size = len(A)-1\n",
    "\n",
    "    for i in range(K):\n",
    "        A = A[size:] + A[:size]\n",
    "        print(A)\n",
    "\n",
    "\n",
    "array = [2,6,4,7,8,9,1]\n",
    "rotation = 3\n",
    "solution(array, rotation)\n"
   ]
  },
  {
   "cell_type": "code",
   "execution_count": 18,
   "metadata": {},
   "outputs": [],
   "source": [
    "\n",
    "#Aproach 2\n",
    "\n",
    "def solution (A, K):\n",
    "\n",
    "    if len(A) < 2:\n",
    "        return A\n",
    "\n",
    "    elif len(A) == K:\n",
    "        return A\n",
    "\n",
    "    result = [0]*len(A)\n",
    "\n",
    "    for i in range(len(A)):\n",
    "\n",
    "        result[(i + K) % len(A)] = A[i]\n",
    "\n",
    "    return result"
   ]
  },
  {
   "cell_type": "code",
   "execution_count": 16,
   "metadata": {
    "tags": []
   },
   "outputs": [
    {
     "output_type": "stream",
     "name": "stdout",
     "text": "[3, 5, 6, 1]\n"
    }
   ],
   "source": [
    "# small test case\n",
    "data = [1,3,5,6]\n",
    "print( solution(data, 3) )"
   ]
  }
 ]
}