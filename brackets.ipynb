{
 "metadata": {
  "language_info": {
   "codemirror_mode": {
    "name": "ipython",
    "version": 3
   },
   "file_extension": ".py",
   "mimetype": "text/x-python",
   "name": "python",
   "nbconvert_exporter": "python",
   "pygments_lexer": "ipython3",
   "version": "3.6.9-final"
  },
  "orig_nbformat": 2,
  "kernelspec": {
   "name": "python36964bit387f029430874b0db6bacfe5b46bd9d1",
   "display_name": "Python 3.6.9 64-bit"
  }
 },
 "nbformat": 4,
 "nbformat_minor": 2,
 "cells": [
  {
   "cell_type": "code",
   "execution_count": null,
   "metadata": {},
   "outputs": [],
   "source": [
    "# A non-empty array A consisting of N integers is given. Array A represents numbers on a tape.\n",
    "\n",
    "# Any integer P, such that 0 < P < N, splits this tape into two non-empty parts: A[0], A[1], ..., A[P − 1] and A[P], A[P + 1], ..., A[N − 1].\n",
    "\n",
    "# The difference between the two parts is the value of: |(A[0] + A[1] + ... + A[P − 1]) − (A[P] + A[P + 1] + ... + A[N − 1])|\n",
    "\n",
    "# In other words, it is the absolute difference between the sum of the first part and the sum of the second part.\n",
    "\n",
    "# For example, consider array A such that:\n",
    "\n",
    "#   A[0] = 3\n",
    "#   A[1] = 1\n",
    "#   A[2] = 2\n",
    "#   A[3] = 4\n",
    "#   A[4] = 3\n",
    "# We can split this tape in four places:\n",
    "\n",
    "# P = 1, difference = |3 − 10| = 7\n",
    "# P = 2, difference = |4 − 9| = 5\n",
    "# P = 3, difference = |6 − 7| = 1\n",
    "# P = 4, difference = |10 − 3| = 7\n",
    "# Write a function:\n",
    "\n",
    "# class Solution { public int solution(int[] A); }\n",
    "\n",
    "# that, given a non-empty array A of N integers, returns the minimal difference that can be achieved.\n",
    "\n",
    "# For example, given:\n",
    "\n",
    "#   A[0] = 3\n",
    "#   A[1] = 1\n",
    "#   A[2] = 2\n",
    "#   A[3] = 4\n",
    "#   A[4] = 3\n",
    "# the function should return 1, as explained above.\n",
    "\n",
    "# Write an efficient algorithm for the following assumptions:\n",
    "\n",
    "# N is an integer within the range [2..100,000];\n",
    "# each element of array A is an integer within the range [−1,000..1,000]."
   ]
  },
  {
   "cell_type": "code",
   "execution_count": null,
   "metadata": {},
   "outputs": [],
   "source": [
    "\n",
    "# you can write to stdout for debugging purposes, e.g.\n",
    "# print(\"this is a debug message\")\n",
    "\n",
    "def solution(A):\n",
    "    # write your code in Python 3.6\n",
    "    \n",
    "    sumLeft = A[0]\n",
    "    sumRight = sum(A) - A[0]\n",
    "    size = len(A)-1\n",
    "    diff = abs(sumLeft - sumRight)\n",
    "    \n",
    "    \n",
    "    for p in range(1, size):\n",
    "        \n",
    "        sumLeft += A[p]\n",
    "        sumRight -=A[p]\n",
    "        \n",
    "        currentDiff = abs( sumLeft - sumRight)\n",
    "        \n",
    "        if diff > currentDiff:\n",
    "            diff = currentDiff\n",
    "    \n",
    "    return diff  "
   ]
  },
  {
   "cell_type": "code",
   "execution_count": 6,
   "metadata": {
    "tags": []
   },
   "outputs": [
    {
     "output_type": "stream",
     "name": "stdout",
     "text": "0\n1\n2\n3\n4\n"
    }
   ],
   "source": [
    "A=[1,2,3,4,5]\n",
    "\n",
    "for i in A:\n",
    "    print(i-1)"
   ]
  },
  {
   "cell_type": "code",
   "execution_count": 97,
   "metadata": {
    "tags": []
   },
   "outputs": [
    {
     "output_type": "stream",
     "name": "stdout",
     "text": "0\n"
    }
   ],
   "source": [
    "    S=  '{]()]}'\n",
    "    op = []\n",
    "    i = 0\n",
    "    valid = True\n",
    "\n",
    "    for ele in S:\n",
    "   \n",
    "        if i == 0 :\n",
    "            if ele == '}' or ele == ')' or ele == ']':\n",
    "                print(0)\n",
    "                break\n",
    "       \n",
    "        i=1\n",
    "        \n",
    "        if ele == '[' or ele == '(' or ele =='{':\n",
    "            op.append(ele)\n",
    "\n",
    "        elif ele == '}':\n",
    "            valid = False if not op or op.pop() != '{' else valid\n",
    "               \n",
    "        elif ele == ']':\n",
    "            valid = False if not op or op.pop() != '[' else valid\n",
    "                \n",
    "        elif ele == ')':\n",
    "            valid = False if not op or op.pop() != '(' else valid\n",
    " \n",
    "\n",
    "    if valid and not op:\n",
    "        print(1)\n",
    "   \n",
    "    else:\n",
    "        print(0)\n",
    "    \n",
    "   "
   ]
  },
  {
   "cell_type": "code",
   "execution_count": 99,
   "metadata": {
    "tags": []
   },
   "outputs": [
    {
     "output_type": "stream",
     "name": "stdout",
     "text": "1\n"
    }
   ],
   "source": [
    "    S=  '{[()]}'\n",
    "    op = []\n",
    "    i = 0\n",
    "    valid = True\n",
    "\n",
    "    for ele in S:\n",
    "   \n",
    "        if i == 0 :\n",
    "            if ele == '}' or ele == ')' or ele == ']':\n",
    "                print(0)\n",
    "                break\n",
    "       \n",
    "        i=1\n",
    "        \n",
    "        if ele == '[' or ele == '(' or ele =='{':\n",
    "            op.append(ele)\n",
    "\n",
    "        elif ele == '}':\n",
    "            valid = False if not op or op.pop() + ele != '{}' else valid # one way of seeing it\n",
    "               \n",
    "        elif ele == ']':\n",
    "            valid = False if not op or op.pop() != '[' else valid # onother way of seeing it\n",
    "                \n",
    "        elif ele == ')':\n",
    "            valid = False if not op or op.pop() != '(' else valid\n",
    " \n",
    "\n",
    "    if valid and not op:\n",
    "        print(1)\n",
    "   \n",
    "    else:\n",
    "        print(0)\n",
    "    \n",
    "   "
   ]
  },
  {
   "cell_type": "code",
   "execution_count": 102,
   "metadata": {
    "tags": []
   },
   "outputs": [
    {
     "output_type": "stream",
     "name": "stdout",
     "text": "True\n"
    }
   ],
   "source": []
  },
  {
   "cell_type": "code",
   "execution_count": null,
   "metadata": {},
   "outputs": [],
   "source": []
  }
 ]
}